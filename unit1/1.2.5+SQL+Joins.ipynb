{
 "cells": [
  {
   "cell_type": "markdown",
   "metadata": {},
   "source": [
    "# Drills\n",
    "What are the three longest trips on rainy days?\n",
    "\n",
    "Which station is full most often?\n",
    "\n",
    "Return a list of stations with a count of number of trips starting at that station but ordered by dock count.\n",
    "\n",
    "(Challenge) What's the length of the longest trip for each day it rains anywhere?"
   ]
  },
  {
   "cell_type": "markdown",
   "metadata": {},
   "source": [
    "1.SELECT DISTINCT trip_id, CAST(Duration as INT) Duration_Int, Events\n",
    "FROM weather a \n",
    "INNER JOIN trips b ON a.zip = b.zip_code\n",
    "WHERE Events = 'Rain'\n",
    "ORDER BY 2 DESC\n",
    "LIMIT 3\n",
    "\n",
    "\n",
    "2.SELECT station_id, avg(docks_daily_avg) as avg_docks_dur_rain\n",
    "\n",
    "FROM \n",
    "(\n",
    "SELECT DISTINCT start_terminal, date\n",
    "FROM weather a \n",
    "INNER JOIN trips b ON a.zip = b.zip_code\n",
    "WHERE Events = 'Rain'\n",
    ") a \n",
    "\n",
    "INNER JOIN \n",
    "(\n",
    "SELECT station_id, strftime('%Y-%m-%d', timestamp) as  condensed_dt, AVG(docks_available) as docks_daily_avg\n",
    "FROM status GROUP BY station_id, strftime('%Y-%m-%d', timestamp) \n",
    ") b \n",
    "\n",
    "ON a.start_terminal = b.station_id AND a.date = b.condensed_dt\n",
    "\n",
    "GROUP BY station_id\n",
    "\n",
    "3.SELECT station_id, COUNT(CASE WHEN bikes_available = 0 THEN 1 ELSE 0 END) as times_empty\n",
    "FROM status\n",
    "GROUP BY station_id\n",
    "ORDER BY 2 DESC\n",
    "LIMIT 1\n"
   ]
  },
  {
   "cell_type": "code",
   "execution_count": null,
   "metadata": {},
   "outputs": [],
   "source": []
  }
 ],
 "metadata": {
  "kernelspec": {
   "display_name": "Python 3",
   "language": "python",
   "name": "python3"
  },
  "language_info": {
   "codemirror_mode": {
    "name": "ipython",
    "version": 3
   },
   "file_extension": ".py",
   "mimetype": "text/x-python",
   "name": "python",
   "nbconvert_exporter": "python",
   "pygments_lexer": "ipython3",
   "version": "3.6.5"
  }
 },
 "nbformat": 4,
 "nbformat_minor": 2
}
