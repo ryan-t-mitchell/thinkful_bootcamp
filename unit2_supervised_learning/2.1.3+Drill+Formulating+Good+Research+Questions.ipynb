{
 "cells": [
  {
   "attachments": {},
   "cell_type": "markdown",
   "metadata": {},
   "source": [
    "# Drill: Formulating good research questions\n",
    "\n",
    "Categorize each of the following research questions as \"good\" or \"bad\", and provide alternative formulations for the bad ones. Save your responses in a document of some kind, submit a link below, and discuss your reasoning with your mentor.\n",
    "\n",
    "1.\tWhat is the 1994 rate of juvenile delinquency in the U.S.?\n",
    "\n",
    "Bad: This is a simple statistic that we can probably just look up online. The question does not contain any elements that require critical thinking as it is presently stated. We could re-word to: What are the best predictors for juvenile delinquency in the US?\n",
    "\n",
    "2.\tWhat can we do to reduce juvenile delinquency in the U.S.?\n",
    "\n",
    "Bad: A better question would be more specific: Is there a correlation between juvenile delinquency and number of parents in the home? \n",
    "\n",
    "3.\tDoes education play a role in reducing juvenile delinquents' return to crime?\n",
    "\n",
    "Good\n",
    "\n",
    "4.\tHow many customers does AT&T currently serve in Washington, DC?\n",
    "\n",
    "Bad: The way this question is worded does not lend itself to the construction of any mathematical models or predictions. You could arrive at a reasonable estimate fairly easily, and the information might even be publicly available to look up online.\n",
    "\n",
    "A better research question would be: What impact will AT&T’s current marketing efforts have on new subscriber rates and/or churn rates? \n",
    "\n",
    "5.\tWhat factors lead consumers to choose AT&T over other service providers?\n",
    "\n",
    "Good\n",
    "\n",
    "6.\tHow can AT&T attract more customers?\n",
    "\n",
    "Bad: This question as written is too broad. A better question would be: What factors are the best predictors for cell phone sign-ups, and how can AT&T reach the relevant customers?\n",
    "\n",
    "7.\tWhy did the Challenger Shuttle explode?\n",
    "\n",
    "Bad: This question does not lend itself to the construction of any mathematical models or predictions. Additionally, as this event happened many years ago, investigators have already laid out the technical causes for the failure. \n",
    "A better question would be: How can we reduce the likelihood of another shuttle launch explosion in the future?\n",
    "\n",
    "8.\tWhich genes are associated with increased risk of breast cancer?\n",
    "\n",
    "Good\n",
    "\n",
    "9.\tIs it better to read to children at night or in the morning?\n",
    "\n",
    "Bad: “Better” is subjective. We need to ask a more specific, measurable question. A better question would be: Do children perform better on cognitive tests if their parents read to them at night or in the morning?\n",
    "\n",
    "10.\tHow does Google’s search algorithm work?\n",
    "\n",
    "Bad: This question as stated is too broad. A better question would be: How does Google determine the ranking of their indexed web-pages?\n",
    "\n",
    "Or: What are the most important factors in Google’s algorithm to obtain a high search rank?"
   ]
  },
  {
   "cell_type": "code",
   "execution_count": null,
   "metadata": {},
   "outputs": [],
   "source": []
  }
 ],
 "metadata": {
  "kernelspec": {
   "display_name": "Python 3",
   "language": "python",
   "name": "python3"
  },
  "language_info": {
   "codemirror_mode": {
    "name": "ipython",
    "version": 3
   },
   "file_extension": ".py",
   "mimetype": "text/x-python",
   "name": "python",
   "nbconvert_exporter": "python",
   "pygments_lexer": "ipython3",
   "version": "3.7.0"
  }
 },
 "nbformat": 4,
 "nbformat_minor": 2
}
