{
 "cells": [
  {
   "cell_type": "markdown",
   "metadata": {},
   "source": [
    "\n",
    "# Cleaning Data\n",
    "\n",
    "In this lesson we'll cover how to identify and correct many types of \"dirty\" data.\n",
    "\n",
    "# Finding dirt\n",
    "In a data scientist's paradise, all data arrive clean and analyses can start right away. In reality, data is often dirty and requires some processing first. Data is \"dirty\" if it contains irrelevant or misleading information. Finding dirt can be hard. Some types of dirty data are only identifiable as dirty if you know something about how the data was collected. For example, a histogram of a variable with values between 0 and 7 may look perfectly normal and seem fine… unless you know that the variable in question is only supposed to have values between 1 and 7. Codebooks and metadata are a great resource for data cleaning; view datasets without these with suspicion. Visualizations are an excellent tool for identifying dirty data. You can also take a look at a sample of the raw data file, to get a sense of what typical values look like.\n",
    "\n",
    "# Cleaning dirt\n",
    "If data is dirty, then it must be cleaned before analysis. Cleaning involves removing the problematic values and, potentially, replacing them with other, less problematic versions.\n",
    "\n",
    "# Replace with a missingness indicator (None in Python, NULL in SQL):\n",
    "# Anomalous values\n",
    "\n",
    "A variable is supposed to range between 1 and 7, but you see a \"99\".\n",
    "A height in inches variable lists someone's height as \"100\".\n",
    "A write-in age variable includes entries such as \"old enough\" and \"29999\".\n",
    "\n",
    "# Fake answers\n",
    "\n",
    "A person answers \"a\" to every question (\"straightlining\"\").\n",
    "Answers form a repeating pattern: \"1, 2, 3, 4, 1, 2, 3, 4, 1, 2, 3, 4\".\n",
    "Plotting data can sometimes guide by showing what normal responses look like.\n",
    "Time from start to finish of a task is less than an established threshold (10 seconds, 30 seconds, etc) suggesting the person did not follow the task instructions.\n",
    "Plotting the response time distribution can help to find a logical cutoff point.\n",
    "Map to a valid response:\n",
    "\n",
    "# Anomalous values\n",
    "\n",
    "If a scale goes from 1 to 7 and one answer is 77, it may be acceptable to change the answer to 7. If you suspect the wrong units are being used (a variable asks for height in inches, someone fills in \"6\"), it may be acceptable to convert to the correct units.\n",
    "\n",
    "# Extreme but plausible values\n",
    "\n",
    "A person in a random sample reports a height of \"7 feet\" and an annual income of \"$20 Million\".\n",
    "\n",
    "Response rates for ads in one city are three times as high as response rates in all other cities.\n",
    "\n",
    "One popular approach to extreme but plausible values is to replace the valid but extreme values with the highest non-outlier value. This retains information (a 7-foot-tall person is quite tall relative to the majority of the sample) while getting rid of the undesirable effects of an outlier. The \"highest non-outlier\" value can be identified in various ways. One method, \"winsorizing\", chooses a percentile such as 90 percent and assigns all values below the 5th percentile equal to the value at the 5th percentile, and all values above the 95th percentile to the value of the 95th percentile."
   ]
  },
  {
   "cell_type": "markdown",
   "metadata": {},
   "source": [
    "# Remove:\n",
    "Duplicate entries\n",
    "\n",
    "A user submits a form twice.\n",
    "Two data sources are combined and include some overlap.\n",
    "Other:\n",
    "Some forms of data cleaning require major judgment calls because the \"dirty\" pattern is widespread and/or systematic. Missing data, for example, can make a dataset dirty if you suspect that there is a data-related reason why those particular values are missing. For example, low-income survey respondents may systematically skip the \"income\" question, while higher-income respondents are less likely to skip it. Without some kind of cleaning or correction, this will cause the average income of the sample to appear higher than it truly is. Missing data correction is sufficiently complex to be covered in its own assignment within this lesson.\n",
    "\n",
    "Never clean data by modifying the datafile by hand. Always do data cleaning programmatically, even if you are only replacing one value in one cell with another value. This will guarantee that you have a record of everything you've done. Since data cleaning changes the data, different data cleaning decisions will have different effects on what the analyses will say, so it is vital to keep a record.\n",
    "\n",
    "In general, treat raw data files as though they were chiselled on stone tablets, never to be changed. Never overwrite them with a cleaned file. Ideally, you won't have a \"clean\" file at all, but instead a 'cleaning' script that you'll call each time you work with the data. This ensures that you always know exactly what has been done to create the datafile you're analyzing.\n",
    "\n",
    "Summary\n",
    "Data cleaning is a vitally important step in the data science process. Without cleaning, the best modeling and interpretation in the world is vulnerable to \"GIGO\": Garbage In, Garbage Out. The best cleaning involves intensive plotting of the raw data by someone who knows how and why the data was collected and what sorts of values are expected."
   ]
  }
 ],
 "metadata": {
  "kernelspec": {
   "display_name": "Python 3",
   "language": "python",
   "name": "python3"
  },
  "language_info": {
   "codemirror_mode": {
    "name": "ipython",
    "version": 3
   },
   "file_extension": ".py",
   "mimetype": "text/x-python",
   "name": "python",
   "nbconvert_exporter": "python",
   "pygments_lexer": "ipython3",
   "version": "3.7.0"
  }
 },
 "nbformat": 4,
 "nbformat_minor": 2
}
