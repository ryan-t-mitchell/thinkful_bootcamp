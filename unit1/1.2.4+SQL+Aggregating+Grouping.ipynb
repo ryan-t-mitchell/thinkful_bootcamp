{
 "cells": [
  {
   "cell_type": "markdown",
   "metadata": {},
   "source": [
    "# Drills\n",
    "\n",
    "What was the hottest day in our data set? Where was that?\n",
    "\n",
    "How many trips started at each station?\n",
    "\n",
    "What's the shortest trip that happened?\n",
    "\n",
    "What is the average trip duration, by end station?"
   ]
  },
  {
   "cell_type": "markdown",
   "metadata": {},
   "source": [
    "1.SELECT MaxTemperatureF, ZIP\n",
    "FROM weather\n",
    "ORDER BY 1 DESC\n",
    "LIMIT 1\n",
    "\n",
    "2.SELECT start_station, count(*) trips\n",
    "FROM trips\n",
    "GROUP BY start_station\n",
    "\n",
    "3.SELECT cast(duration as INT)\n",
    "FROM trips\n",
    "GROUP BY duration\n",
    "ORDER BY 1\n",
    "LIMIT 1\n",
    "\n",
    "4.SELECT end_station, AVG(duration) \n",
    "FROM trips\n",
    "GROUP BY end_station\n",
    "ORDER BY 1\n"
   ]
  },
  {
   "cell_type": "code",
   "execution_count": null,
   "metadata": {},
   "outputs": [],
   "source": []
  }
 ],
 "metadata": {
  "kernelspec": {
   "display_name": "Python 3",
   "language": "python",
   "name": "python3"
  },
  "language_info": {
   "codemirror_mode": {
    "name": "ipython",
    "version": 3
   },
   "file_extension": ".py",
   "mimetype": "text/x-python",
   "name": "python",
   "nbconvert_exporter": "python",
   "pygments_lexer": "ipython3",
   "version": "3.6.5"
  }
 },
 "nbformat": 4,
 "nbformat_minor": 2
}
