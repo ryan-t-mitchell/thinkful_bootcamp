{
 "cells": [
  {
   "cell_type": "markdown",
   "metadata": {},
   "source": [
    "# Wrap up\n",
    "Between this lesson and the previous regression lesson, you've spent a lot of time with regression. By now, you should have a good sense of both the strengths and the limitations of regression modeling. In particular, you can now:\n",
    "\n",
    "Use regression for both continuous and categorical data\n",
    "\n",
    "Implement embedded feature selection through LASSO\n",
    "\n",
    "Combat overfitting through ridge and LASSO\n",
    "\n",
    "Regression is an old and venerable method of data modeling. It is straightforward to run and flexible in inputs, but is also hobbled by some restrictive assumptions about the nature of the data. Despite these restrictions, regression is often combined with other modeling techniques – for example, using random forests to identify the most important features in a dataset and then feeding those into a regression model to generate predictions.\n",
    "\n",
    "If you're not yet comfortable with the regression approach, and in particular with the ridge and lasso model fitting methods, make sure to experiment with additional examples of these models before you move on."
   ]
  },
  {
   "cell_type": "code",
   "execution_count": null,
   "metadata": {},
   "outputs": [],
   "source": []
  }
 ],
 "metadata": {
  "kernelspec": {
   "display_name": "Python 3",
   "language": "python",
   "name": "python3"
  },
  "language_info": {
   "codemirror_mode": {
    "name": "ipython",
    "version": 3
   },
   "file_extension": ".py",
   "mimetype": "text/x-python",
   "name": "python",
   "nbconvert_exporter": "python",
   "pygments_lexer": "ipython3",
   "version": "3.7.0"
  }
 },
 "nbformat": 4,
 "nbformat_minor": 2
}
