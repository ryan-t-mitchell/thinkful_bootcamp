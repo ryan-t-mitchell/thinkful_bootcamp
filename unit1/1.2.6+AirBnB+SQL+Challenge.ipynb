{
 "cells": [
  {
   "cell_type": "markdown",
   "metadata": {},
   "source": [
    "# Drills \n",
    "\n",
    "What's the most expensive listing? What else can you tell me about the listing?\n",
    "\n",
    "What neighborhoods seem to be the most popular?\n",
    "\n",
    "What time of year is the cheapest time to go to your city? What about the busiest?"
   ]
  },
  {
   "cell_type": "markdown",
   "metadata": {},
   "source": [
    "1.WITH MaxPrice AS \n",
    "(\n",
    "SELECT  \n",
    "MAX(CAST(SUBSTR(price, 2) AS NUMERIC)) AS maxprice\n",
    "FROM listings\n",
    ")\n",
    "\n",
    "SELECT  a.*\n",
    "FROM listings a \n",
    "INNER JOIN MaxPrice b ON CAST(SUBSTR(price, 2) AS NUMERIC) = maxprice\n",
    "\n",
    "2.SELECT a.neighbourhood, COUNT(*) total_listings, SUM(CASE WHEN available = 't' THEN 1 ELSE 0 END) AS open_listings, SUM(CASE WHEN available = 'f' THEN 1 ELSE 0 END) AS closed_listings,\n",
    "AVG(CASE WHEN CAST(SUBSTR(c.price, 2) AS NUMERIC) > 0 THEN CAST(SUBSTR(c.price, 2) AS NUMERIC) ELSE NULL END) AS avg_price\n",
    "\n",
    "FROM listings_summ a \n",
    "INNER JOIN neighbourhoods b ON a.neighbourhood = b.neighbourhood\n",
    "INNER JOIN calendar c ON a.id = c.listing_id\n",
    "WHERE c.date = '2017-03-14'\n",
    "GROUP BY a.neighbourhood\n",
    "ORDER BY 2 DESC\n",
    "\n",
    "3.SELECT c.date, COUNT(*) total_listings, SUM(CASE WHEN available = 't' THEN 1 ELSE 0 END) AS open_listings, SUM(CASE WHEN available = 'f' THEN 1 ELSE 0 END) AS closed_listings,\n",
    "AVG(CASE WHEN CAST(SUBSTR(c.price, 2) AS NUMERIC) > 0 THEN CAST(SUBSTR(c.price, 2) AS NUMERIC) ELSE NULL END) AS avg_price\n",
    "\n",
    "FROM listings_summ a \n",
    "INNER JOIN neighbourhoods b ON a.neighbourhood = b.neighbourhood\n",
    "INNER JOIN calendar c ON a.id = c.listing_id\n",
    "\n",
    "GROUP BY c.date\n",
    "ORDER BY 1 ASC\n"
   ]
  }
 ],
 "metadata": {
  "kernelspec": {
   "display_name": "Python 3",
   "language": "python",
   "name": "python3"
  },
  "language_info": {
   "codemirror_mode": {
    "name": "ipython",
    "version": 3
   },
   "file_extension": ".py",
   "mimetype": "text/x-python",
   "name": "python",
   "nbconvert_exporter": "python",
   "pygments_lexer": "ipython3",
   "version": "3.6.5"
  }
 },
 "nbformat": 4,
 "nbformat_minor": 2
}
