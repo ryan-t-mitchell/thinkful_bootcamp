{
 "cells": [
  {
   "cell_type": "markdown",
   "metadata": {},
   "source": [
    "# Data, engineering, and machine learning\n",
    "\n",
    "As we consider how we want to define data science, it's useful to pull back a little bit to look at the larger picture. Data science does not exist in a vacuum. It doesn't exist on its own. Instead, it operates within a larger system. To understand its place within that system, then, it is worth understanding the architecture of that larger system.\n",
    "\n",
    "# The Technology Stack\n",
    "\n",
    "When talking about a website or an app, people will often reference something called the stack or technology stack. This is the collection of elements that make up the given product. There is no single canonical 'stack,' and it will vary widely based on the application and the choices that engineers made when building it, though there are some common elements that a data scientist needs to be aware of.\n",
    "\n",
    "First, let's talk about the front end. The front end is the the interface that users interact with: the website displayed in the browser or the mobile app on someone's phone. It is typically a combination of HTML, CSS, and JavaScript (as well as some JavaScript libraries like JQuery or React) in the case of a website or Swift in the case of an iOS app. Data scientists typically have limited interaction with front end engineering, though they could be working on experiments that include changes to the front end and the front end often plays a role in collecting data, so it is something to be familiar with.\n",
    "\n",
    "The counterpart to the front end is, unsurprisingly, the back end. The back end can contain many different components, though some of the most common are servers, services, and the database. Servers run the applications of the website or app. Services are the code that actually generates or stores data from the app, among many other things (think about recording signup information a user puts into a form). And the database stores all of this information. If a data science model is deployed in production (say to offer personalization or intelligence to a process by ranking the results of a search or providing suggested videos on YouTube) that code will almost certainly exist in the back end.\n",
    "\n",
    "Data science can also operate outside the production stack, and the development process where a model or system is initially designed and tested will typically happen outside of the production stack.\n",
    "\n",
    "# So what is Data Science?\n",
    "\n",
    "When trying to define what a data scientist is, it's tempting to go back to that tweet from Josh Willis (a data engineer) we referenced in the fundamentals course: \"[A] Person who is better at statistics than any software engineer and better at software engineering than any statistician.\" There is some truth to that. Data science operates at the intersection of statistics and engineering. Of course, it's worth noting more details on which skills this course is meant to impart.\n",
    "\n",
    "In this course we'll focus on learning from data. Specifically, we will focus on what happens after data is collected. How do you use that data to learn more about customers or events? How can that data inform decisions and make processes more efficient? You will learn not only the skills to access and manipulate data, but to build models that draw out information or provide intelligence to a process. As such we will cover analytics, experimentation, modeling, and machine learning.\n",
    "\n",
    "# Related Roles\n",
    "\n",
    "There are several roles related to data science, and it is not uncommon to see some overlap in skills. It is worth being familiar with the other roles data science skills can fall under so that you see the roles best suited to your skills.\n",
    "\n",
    "Data Analyst\n",
    "\n",
    "Typically, data analysts have the mathematical and statistical skill to look at data and draw conclusions or create reports. Very similar roles can fall under names like Business Intelligence Analyst. They interpret the information and perhaps suggest responses. Some people consider data analysts to be less experienced data scientists, without the full set of skills described above. There may be some coding skill in a language such as Python or R, but they are generally less sophisticated programmers than data scientists. Similarly, they may have some modeling background but not of the range a data scientist would. It is also not uncommon for data analysts to become data scientists after they develop more skills on the job.\n",
    "\n",
    "Data Engineer\n",
    "\n",
    "A data engineer is a master of gathering and storing data. They exist a step before data science, though often work in close collaboration. They create and manage the pipelines that take data out of a process and put it somewhere people (like data scientists) can use it. Accordingly, they interact with the front end and back end of the production system more directly. Database types and storage methods are within their domain, as are the pipelines that move data from one place to another. Typically they do not have as much an emphasis on interpretation or analysis as a data scientist will have.\n",
    "\n",
    "Machine Learning Engineer\n",
    "\n",
    "A machine learning engineer specializes in algorithms and modeling, typically with a more robust understanding of algorithm design and efficiency than the average data scientist. Data scientists typically rely on packages (like scikit-learn) for modeling as we will in this bootcamp. Machine learning engineers on the other hand often create bespoke models for deployment in the production environment using languages like C or Go (which are much more performant than Python), and usually have deep programming experience.\n",
    "\n",
    "# A New and Evolving Field\n",
    "\n",
    "While we have proposed a loose definition of \"data scientist\" and the responsibilities that we expect data scientists to fill, it is important to note that this is a new and evolving field. Practically, what that means is that there is no universally agreed definition of what exactly a data scientist is that everyone buys into. The expectations of what data scientists can do vary from person to person and company to company, sometimes significantly. When you get into your career search don't feel bound by job titles. Judge job opportunities by their skills and requirements, rather than job title alone, to find positions that align with your interests.\n",
    "\n"
   ]
  }
 ],
 "metadata": {
  "kernelspec": {
   "display_name": "Python 3",
   "language": "python",
   "name": "python3"
  },
  "language_info": {
   "codemirror_mode": {
    "name": "ipython",
    "version": 3
   },
   "file_extension": ".py",
   "mimetype": "text/x-python",
   "name": "python",
   "nbconvert_exporter": "python",
   "pygments_lexer": "ipython3",
   "version": "3.7.0"
  }
 },
 "nbformat": 4,
 "nbformat_minor": 2
}
