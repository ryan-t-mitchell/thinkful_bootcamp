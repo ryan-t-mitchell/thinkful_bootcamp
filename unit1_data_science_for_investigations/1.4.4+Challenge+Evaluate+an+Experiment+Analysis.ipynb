{
 "cells": [
  {
   "cell_type": "markdown",
   "metadata": {},
   "source": [
    "# Challenge: Evaluate an experiment analysis\n",
    "\n",
    "Now it's time to flex your critical evaluation skills. Read the following descriptions of an experiment and its analysis, identify the flaws in each, and describe what you would do to correct them.\n",
    "\n",
    "# 1)\n",
    "The Sith Lords are concerned that their recruiting slogan, \"Give In to Your Anger,\" isn't very effective. Darth Vader develops an alternative slogan, \"Together We Can Rule the Galaxy.\" They compare the slogans on two groups of 50 captured droids each. In one group, Emperor Palpatine delivers the \"Anger\" slogan. In the other, Darth Vader presents the \"Together\" slogan. 20 droids convert to the Dark Side after hearing Palpatine's slogan, while only 5 droids convert after hearing Vader's. The Sith's data scientist concludes that \"Anger\" is a more effective slogan and should continue to be used.\n",
    "\n",
    "RM: Need the same person to present to both audiences. Also need to make sure the droid populations have similar characteristics such that the slogan can be isolated as the cause for conversion.\n",
    "\n",
    "# 2)\n",
    "In the past, the Jedi have had difficulty with public relations. They send two envoys, Jar Jar Binks and Mace Windu, to four friendly and four unfriendly planets respectively, with the goal of promoting favorable feelings toward the Jedi. Upon their return, the envoys learn that Jar Jar was much more effective than Windu: Over 75% of the people surveyed said their attitudes had become more favorable after speaking with Jar Jar, while only 65% said their attitudes had become more favorable after speaking with Windu. This makes Windu angry, because he is sure that he had a better success rate than Jar Jar on every planet. The Jedi choose Jar Jar to be their representative in the future.\n",
    "\n",
    "RM: Assuming they went to the same planets, Mace must have spoken to larger crowds on unfriendly planets than Jar-Jar did, or to smaller crowds on friendly planets, or both. To ensure fairness, they would need to speak to two separate groups, identical in size, that were randomly sampled from the total population on each planet. Would need to prove that the groups were randomly selected and each representative of the total population before interacting with the Jedi to ensure the samples were similar. Repeat on each planet and then compare the results.\n",
    "\n",
    "# 3)\n",
    "A company with work sites in five different countries has sent you data on employee satisfaction rates for workers in Human Resources and workers in Information Technology. Most HR workers are concentrated in three of the countries, while IT workers are equally distributed across worksites. The company requests a report on satisfaction for each job type. You calculate average job satisfaction for HR and for IT and present the report.\n",
    "\n",
    "RM: Need to account for the fact that happiness may be correlated with the country you are stationed in. Need to ensure that no other hidden variables could be influencing the data (age, gender, employee level/salary, employee tenure, etc.). Adjust the results based on any of these variables that affect the satisfaction rating before presenting. For example, if women have significantly higher (or lower) job satisfaction than men in both HR and IT, and HR has proportionately more women than IT, the satisfaction level should be adjusted such that the weight of the male satisfaction ratings in HR is increased to account for the gender mix differences. A thorough report would compare HR and IT at all sub-segmented levels which impact the satisfaction level (eg: Job satisfaction of women, 30-40 years of age, earning 40-60K,  who have been with the company 5-10 years). If the data is not rich enough to allow such segmentation, you can roll the data up to higher levels and present it with the caveat that the sampled groups differ in key areas that affect the outcome.\n",
    "\n",
    "# 4)\n",
    "When people install the Happy Days Fitness Tracker app, they are asked to \"opt in\" to a data collection scheme where their level of physical activity data is automatically sent to the company for product research purposes. During your interview with the company, they tell you that the app is very effective because after installing the app, the data show that people's activity levels rise steadily.\n",
    "\n",
    "RM: The outcome of this experiment is biased. The type of person that opts in and wants to log their data is likely interested in tracking their performance over time, with the intent to improve/increase activity levels. In this case, the app would not be the cause of the increased activity levels, but rather the tool which the customer would use to measure said activity levels. To test the app’s effectiveness, the company could disclose that all activity information would be logged, and therefore could look at activity trends for the entire population using the app. This would allow the company to make a fair statement regarding the app’s effectiveness at increasing activity levels.\n",
    "\n",
    "# 5)\n",
    "To prevent cheating, a teacher writes three versions of a test. She stacks the three versions together, first all copies of Version A, then all copies of Version B, then all copies of Version C. As students arrive for the exam, each student takes a test. When grading the test, the teacher finds that students who took Version B scored higher than students who took either Version A or Version C. She concludes from this that Version B is easier, and discards it.\n",
    "\n",
    "RM: The teacher has not taken into account the possibility that the students who took version B might be better students in general. She should look at the average grades of the students who took each version and compare that to the average score on the respective test. For example, if students who took Test A normally average an 80 but averaged an 90 on version A, then version A was probably too easy.\n",
    "\n",
    "Discuss your answer to each of these questions with your mentor. For a deep and irreverent dive into the critical evaluation of experiments (among other sources of information), check out Calling Bullshit in the Age of Big Data.\n",
    "\n",
    "https://callingbullshit.org/"
   ]
  },
  {
   "cell_type": "code",
   "execution_count": null,
   "metadata": {},
   "outputs": [],
   "source": []
  }
 ],
 "metadata": {
  "kernelspec": {
   "display_name": "Python 3",
   "language": "python",
   "name": "python3"
  },
  "language_info": {
   "codemirror_mode": {
    "name": "ipython",
    "version": 3
   },
   "file_extension": ".py",
   "mimetype": "text/x-python",
   "name": "python",
   "nbconvert_exporter": "python",
   "pygments_lexer": "ipython3",
   "version": "3.7.0"
  }
 },
 "nbformat": 4,
 "nbformat_minor": 2
}
