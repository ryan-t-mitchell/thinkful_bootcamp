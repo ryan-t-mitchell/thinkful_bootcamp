{
 "cells": [
  {
   "cell_type": "markdown",
   "metadata": {},
   "source": [
    "# Challenge: AirBnB in SanFran\n",
    "\n",
    "Now that you're comfortable with the Postgres database knowledge, it's time to bring it together in a challenge. You'll connect to a remote database we've set up that contains data from AirBnB about its presence in San Francisco. After exploring how the tables in this database are set up, you'll be asked to answer a short set of questions.\n",
    "\n",
    "# Connect to remote database server\n",
    "\n",
    "So far in this module, we've been connecting to a locally hosted database. For this challenge, you'll need to connect to a remote database. The good news is that this is straightforward to do, and after connecting to the DB, everything else will remain the same.\n",
    "\n",
    "Open pgAdmin, then right-click on the server incon in the top-left corner of the interface. Select Create -> New Server, and then name the new server something logical like thinkful_data_science_bootcamp.\n",
    "\n",
    "After naming your server, head to the Connection tab. Here you will set a connection to the server using the following credentials:\n",
    "\n",
    "Host name/address: 142.93.121.174\n",
    "Username: dsbc_student\n",
    "Password: 7*.8G9QH21\n",
    "Port: 5432\n",
    "Be sure to check off the \"Save password?\" option to avoid being prompted to enter your password each time you connect to the server.\n",
    "\n",
    "Click \"Save\", and you should see your new server appear in the left part of the interface under \"Servers\".\n",
    "\n",
    "Next, click on your new server, then Databases -> air_bnb_data (note that there are several databases available on this server, but for now we're only interested in the one with AirBnB data). Then on the air_bnb_data database, click Schemas -> Tables (3) to get an initial view of the tables that are available on this database.\n",
    "\n",
    "\n",
    "\n",
    "Explore the tables\n",
    "Spend a few minutes getting up to speed on the database schema. There are three tables: sfo_calendar, sfo_listings, and sfo_reviews. The questions in the next section require you to use all three."
   ]
  },
  {
   "cell_type": "markdown",
   "metadata": {},
   "source": [
    "# Drills \n",
    "\n",
    "What's the most expensive listing? What else can you tell me about the listing?\n",
    "\n",
    "What neighborhoods seem to be the most popular?\n",
    "\n",
    "What time of year is the cheapest time to go to your city? What about the busiest?"
   ]
  },
  {
   "cell_type": "markdown",
   "metadata": {},
   "source": [
    "1.WITH MaxPrice AS \n",
    "(\n",
    "SELECT  \n",
    "MAX(CAST(SUBSTR(price, 2) AS NUMERIC)) AS maxprice\n",
    "FROM listings\n",
    ")\n",
    "\n",
    "SELECT  a.*\n",
    "FROM listings a \n",
    "INNER JOIN MaxPrice b ON CAST(SUBSTR(price, 2) AS NUMERIC) = maxprice\n",
    "\n",
    "2.SELECT a.neighbourhood, COUNT(*) total_listings, SUM(CASE WHEN available = 't' THEN 1 ELSE 0 END) AS open_listings, SUM(CASE WHEN available = 'f' THEN 1 ELSE 0 END) AS closed_listings,\n",
    "AVG(CASE WHEN CAST(SUBSTR(c.price, 2) AS NUMERIC) > 0 THEN CAST(SUBSTR(c.price, 2) AS NUMERIC) ELSE NULL END) AS avg_price\n",
    "\n",
    "FROM listings_summ a \n",
    "INNER JOIN neighbourhoods b ON a.neighbourhood = b.neighbourhood\n",
    "INNER JOIN calendar c ON a.id = c.listing_id\n",
    "WHERE c.date = '2017-03-14'\n",
    "GROUP BY a.neighbourhood\n",
    "ORDER BY 2 DESC\n",
    "\n",
    "3.SELECT c.date, COUNT(*) total_listings, SUM(CASE WHEN available = 't' THEN 1 ELSE 0 END) AS open_listings, SUM(CASE WHEN available = 'f' THEN 1 ELSE 0 END) AS closed_listings,\n",
    "AVG(CASE WHEN CAST(SUBSTR(c.price, 2) AS NUMERIC) > 0 THEN CAST(SUBSTR(c.price, 2) AS NUMERIC) ELSE NULL END) AS avg_price\n",
    "\n",
    "FROM listings_summ a \n",
    "INNER JOIN neighbourhoods b ON a.neighbourhood = b.neighbourhood\n",
    "INNER JOIN calendar c ON a.id = c.listing_id\n",
    "\n",
    "GROUP BY c.date\n",
    "ORDER BY 1 ASC\n"
   ]
  }
 ],
 "metadata": {
  "kernelspec": {
   "display_name": "Python 3",
   "language": "python",
   "name": "python3"
  },
  "language_info": {
   "codemirror_mode": {
    "name": "ipython",
    "version": 3
   },
   "file_extension": ".py",
   "mimetype": "text/x-python",
   "name": "python",
   "nbconvert_exporter": "python",
   "pygments_lexer": "ipython3",
   "version": "3.7.0"
  }
 },
 "nbformat": 4,
 "nbformat_minor": 2
}
