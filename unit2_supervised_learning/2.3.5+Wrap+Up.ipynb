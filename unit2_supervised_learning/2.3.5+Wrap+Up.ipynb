{
 "cells": [
  {
   "cell_type": "markdown",
   "metadata": {},
   "source": [
    "# Wrap up\n",
    "You should now have a good grasp of how to evaluate classifier type models and have experience evaluating your own model. Some of the specific topics you should now be comfortable with include:\n",
    "\n",
    "# Accuracy\n",
    "Type I and Type II Errors\n",
    "\n",
    "Sensitivity vs. Specificity\n",
    "\n",
    "Holdout Groups\n",
    "\n",
    "Cross Validation\n",
    "\n",
    "Many of these techniques will continue to be valuable for other types of models, so we will revisit some of them as they show their further relevance. But now you should have a sense for not just whether your model runs, but how well it performs."
   ]
  },
  {
   "cell_type": "code",
   "execution_count": null,
   "metadata": {},
   "outputs": [],
   "source": []
  }
 ],
 "metadata": {
  "kernelspec": {
   "display_name": "Python 3",
   "language": "python",
   "name": "python3"
  },
  "language_info": {
   "codemirror_mode": {
    "name": "ipython",
    "version": 3
   },
   "file_extension": ".py",
   "mimetype": "text/x-python",
   "name": "python",
   "nbconvert_exporter": "python",
   "pygments_lexer": "ipython3",
   "version": "3.7.0"
  }
 },
 "nbformat": 4,
 "nbformat_minor": 2
}
