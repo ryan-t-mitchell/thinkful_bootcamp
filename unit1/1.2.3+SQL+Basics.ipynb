{
 "cells": [
  {
   "cell_type": "markdown",
   "metadata": {},
   "source": [
    "1)  SELECT trip_id, cast(duration as INT) duration_int\n",
    "FROM trips\n",
    "ORDER BY duration_int DESC\n",
    "LIMIT 5\n",
    "\n",
    "2)\tSELECT *\n",
    "FROM stations\n",
    "WHERE station_id = 84\n",
    "\n",
    "3)\tSELECT Date\n",
    "FROM weather\n",
    "WHERE Events = 'Rain'\n",
    "AND ZIP = 94301\n",
    "ORDER BY 1\n"
   ]
  }
 ],
 "metadata": {
  "kernelspec": {
   "display_name": "Python 3",
   "language": "python",
   "name": "python3"
  },
  "language_info": {
   "codemirror_mode": {
    "name": "ipython",
    "version": 3
   },
   "file_extension": ".py",
   "mimetype": "text/x-python",
   "name": "python",
   "nbconvert_exporter": "python",
   "pygments_lexer": "ipython3",
   "version": "3.6.5"
  }
 },
 "nbformat": 4,
 "nbformat_minor": 2
}
