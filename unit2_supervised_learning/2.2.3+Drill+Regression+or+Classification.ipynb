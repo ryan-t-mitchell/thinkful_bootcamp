{
 "cells": [
  {
   "attachments": {},
   "cell_type": "markdown",
   "metadata": {},
   "source": [
    "# Drill: Regression or classification\n",
    "For each of the following situations, decide if you would model using a regression or classification model. Discuss your reasoning with your mentor next time you meet.\n",
    "\n",
    "The amount a person will spend on a given site in the next 24 months. Regression\n",
    "\n",
    "What color car someone is going to buy. Classification\n",
    "\n",
    "How many children a family will have. Regression is better – don’t want to limit the possible outcomes to, say, 5 children. \n",
    "\n",
    "If someone will sign up for a service. Classification\n",
    "\n",
    "The number of times someone will get sick in a year.\n",
    "Regression is better – someone could be sick every day, and you don’t you don’t want to restrict the sample outcomes to say, 5 days. \n",
    "\n",
    "The probability someone will get sick in the next month. Regression\n",
    "\n",
    "Which medicine will work best for a given patient. Classification"
   ]
  },
  {
   "cell_type": "code",
   "execution_count": null,
   "metadata": {},
   "outputs": [],
   "source": []
  }
 ],
 "metadata": {
  "kernelspec": {
   "display_name": "Python 3",
   "language": "python",
   "name": "python3"
  },
  "language_info": {
   "codemirror_mode": {
    "name": "ipython",
    "version": 3
   },
   "file_extension": ".py",
   "mimetype": "text/x-python",
   "name": "python",
   "nbconvert_exporter": "python",
   "pygments_lexer": "ipython3",
   "version": "3.7.0"
  }
 },
 "nbformat": 4,
 "nbformat_minor": 2
}
