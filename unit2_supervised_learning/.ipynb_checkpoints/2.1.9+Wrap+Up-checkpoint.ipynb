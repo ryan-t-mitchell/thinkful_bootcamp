{
 "cells": [
  {
   "cell_type": "markdown",
   "metadata": {},
   "source": [
    "# Wrap-up\n",
    "\n",
    "You should now have a good grasp of the nature of statistical models and how to get your data ready to model. Some of the specific topics you should now be comfortable with include:\n",
    "\n",
    "Defining a clear and testable research question\n",
    "\n",
    "Univariate and bivariate data exploration\n",
    "\n",
    "Dimension reduction using Principal Components Analysis\n",
    "\n",
    "The reasoning behind creating and discarding features\n",
    "\n",
    "You'll use most or all of these techniques each time you model, so you'll get lots of chances to practice them in the following lessons. For now, you should have a sense of when a dataset is ready for modeling."
   ]
  },
  {
   "cell_type": "code",
   "execution_count": null,
   "metadata": {},
   "outputs": [],
   "source": []
  }
 ],
 "metadata": {
  "kernelspec": {
   "display_name": "Python 3",
   "language": "python",
   "name": "python3"
  },
  "language_info": {
   "codemirror_mode": {
    "name": "ipython",
    "version": 3
   },
   "file_extension": ".py",
   "mimetype": "text/x-python",
   "name": "python",
   "nbconvert_exporter": "python",
   "pygments_lexer": "ipython3",
   "version": "3.7.0"
  }
 },
 "nbformat": 4,
 "nbformat_minor": 2
}
