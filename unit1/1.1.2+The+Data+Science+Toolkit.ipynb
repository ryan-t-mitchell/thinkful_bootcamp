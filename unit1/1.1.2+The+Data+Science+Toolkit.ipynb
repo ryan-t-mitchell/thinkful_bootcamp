{
 "cells": [
  {
   "cell_type": "markdown",
   "metadata": {},
   "source": [
    "# The data science toolkit\n",
    "\n",
    "Data scientists frequently use a specified set of tools and programs to do their job. The tools of the trade are frequently referred to as the data science toolkit. We'll cover all the elements in further detail throughout the course, but it's worth taking a moment now to outline what those tools are and when they're used in practice.\n",
    "\n",
    "# Python\n",
    "\n",
    "Python is at the center of almost everything we'll do and represents the core programming language for this course. Even when we're not working in Python, it will often be in order to get data into or out of a Python environment. This is also where most of the 'data science' will happen. Most analytical work will be in Python and modeling will also be done with this.\n",
    "\n",
    "There are other programming languages that can be used for data science. R is probably the most common alternative, and there are certainly advantages to each language. R has some more developed statistical packages and a wider range of statistical tests and models readily available. Python, however, is a generally more robust programming language and used for a wider variety of tasks than just data science. You can take a Python project and seamlessly integrate it into larger infrastructure. That infrastructure may even be in Python itself. R is used almost exclusively for data work, so it doesn't have that broader range of functionality.\n",
    "\n",
    "# Packages\n",
    "\n",
    "We'll expand the functionality of Python beyond its core library with a variety of packages. What follows is a non-exhaustive list of some of the packages we'll use and their purposes.\n",
    "\n",
    "NumPy - The basic package for mathematical manipulation within Python.\n",
    "\n",
    "Pandas - Contains the dataframe, which is the key data structure for data science. Built on top of NumPy.\n",
    "\n",
    "matplotlib - Fundamental plotting library.\n",
    "\n",
    "Seaborn - A more sophisticated plotting library based on matplotlib.\n",
    "\n",
    "scikit-learn - The core modeling and machine learning library in Python, with built-in tools for the majority of models we'll use.\n",
    "\n",
    "StatsModels - An alternative modeling library.\n",
    "\n",
    "Don't worry if you're not familiar with all of these packages yet (we'd be surprised if you were). We'll continue to go through them during the course. This may be a useful list to reference when working on projects and you're wondering where to look for certain functions. There is also a near infinite number of more specialized packages for more specific scenarios. The list really does go on and on and on.\n",
    "\n",
    "# SQL\n",
    "\n",
    "Data will not always be available in an easy to use form. Sometimes there's just too much of it. Often it needs to be stored in a database for operational reasons. SQL (\"Structured Query Language\") is the way you get data out of most databases (like PostgreSQL, MySQL, Oracle, Microsoft SQL Server, Amazon's SimpleDB, and SQLite). We'll use SQL to access and preprocess data so that you're comfortable working with and extracting from databases when dealing with them professionally. HiveQL is the Hive version of SQL, which we will also cover in the Big Data section.\n",
    "\n",
    "And that's it. There is a universe of specialized tools for particular domains, and you'll have a chance to dig into some of those later in the course, but these are the core tools of data science.\n",
    "\n"
   ]
  },
  {
   "cell_type": "code",
   "execution_count": null,
   "metadata": {},
   "outputs": [],
   "source": []
  }
 ],
 "metadata": {
  "kernelspec": {
   "display_name": "Python 3",
   "language": "python",
   "name": "python3"
  },
  "language_info": {
   "codemirror_mode": {
    "name": "ipython",
    "version": 3
   },
   "file_extension": ".py",
   "mimetype": "text/x-python",
   "name": "python",
   "nbconvert_exporter": "python",
   "pygments_lexer": "ipython3",
   "version": "3.7.0"
  }
 },
 "nbformat": 4,
 "nbformat_minor": 2
}
