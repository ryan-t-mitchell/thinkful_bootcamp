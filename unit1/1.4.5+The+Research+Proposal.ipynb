{
 "cells": [
  {
   "cell_type": "markdown",
   "metadata": {},
   "source": [
    "# The research proposal\n",
    "\n",
    "Experiments work best when they build on existing knowledge to address a clearly defined problem. A research proposal is an organized \"battle plan\" in three parts:\n",
    "\n",
    "# The problem\n",
    "This is where you define the question or problem, justify why the problem should be studied, and review what we already know about the problem. For example:\n",
    "\n",
    "How to decrease employee churn? Churn creates inefficiency as new people have to be trained in and knowledge from experienced workers is lost. In exit interviews, employees name \"out-of-date technology\" and \"poor communication\" as major motivations to leave.\n",
    "\n",
    "# The potential solution\n",
    "Here you propose a hypothesis (potential explanation) to be tested. For example:\n",
    "\n",
    "Adding Slack to employee computers will decrease churn by increasing communication.\n",
    "\n",
    "# The method of testing the solution\n",
    "Describe the design of the experiment, the _analysis plan_, and _set benchmarks_:\n",
    "\n",
    "Install Slack on half of the employees' computers and monitor churn for the next two months. The variable of interest is churn in Slack and non-Slack groups. This is an A/B manipulation where Slack is installed or not installed.\n",
    "\n",
    "We will compute the churn rate for two months before the study and compare it to the churn rate in Slack and non-Slack groups for two months during the study.\n",
    "\n",
    "If churn in the next two months decreases by 10% among Slack users (using churn estimates from the past year), conclude that Slack is effective and install on all computers. If churn in the next two months decreases among Slack users, but by less than one standard deviation, observe for two more months before deciding. If churn does not decrease in two months, uninstall Slack.\n",
    "\n",
    "Even if no one reads the research proposal but you, it is important to clearly lay out exactly what you plan to do and why. A research proposal helps to avoid many common experimentation pitfalls, such as:\n",
    "\n",
    "Mis-match between question and study design.\n",
    "E.g., a study that claims to address churn but actually focuses on employee communication and doesn't measure churn.\n",
    "A design that does not generate usable data.\n",
    "E.g. We want to compare employee satisfaction in two groups, but the groups use different satisfaction measures and there's no way to compare them.\n",
    "False positives\n",
    "E.g. Changing the endpoints mid-way through a study by moving benchmarks or stopping data collection early when things start to look promising increases the risk of getting results that look good but reflect random chance rather than real trends.\n",
    "The research proposal also presents and maintains a standard. It should outline the way things should be and hold you to it. In the real world there will be pressure to run things faster, reduce costs, or cut corners here or there. The proposal provides the standard for how the experiment should be run. It also provides an easy response to questions like: \"Why is this taking so long?\"\n",
    "A good research proposal starts with a big question (\"How to reduce employee churn?\") but rapidly narrows in scope (\"Adding Slack to employee computers will decrease churn by increasing communication\"). It is a practical reference document that helps to maintain a straight line between goals and actions.\n",
    "\n",
    "For a deep dive into designing a promising proposal, see this chapter excerpt from _Commercial Data Mining: Processing, Analysis and Modeling for Predictive Analytics Projects_, by David Nettleton and a follow-up commentary from a data scientist at IBM. \n",
    "\n",
    "https://searchbusinessanalytics.techtarget.com/feature/How-to-evaluate-the-viability-of-a-data-mining-project\n",
    "https://www.ibmbigdatahub.com/blog/delicate-art-data-science-project-prioritization-and-triage\n",
    "\n",
    "Note that they focus on evaluating data mining proposals, rather than experimentation proposals, but the underlying logic is the same.\n",
    "\n",
    "# DRILL: Make a quick research proposal\n",
    "Look back to the potential experiments in the previous assignment. For one of those experiments, write up the essential points of a research proposal for an improved version of that experiment.\n",
    "\n",
    "Submit it and review with your mentor."
   ]
  },
  {
   "cell_type": "markdown",
   "metadata": {},
   "source": [
    "# Drill \n",
    "Original prompt from one of the 'experiments from prior section':\n",
    "\n",
    "When people install the Happy Days Fitness Tracker app, they are asked to \"opt in\" to a data collection scheme where their level of physical activity data is automatically sent to the company for product research purposes. During your interview with the company, they tell you that the app is very effective because after installing the app, the data show that people's activity levels rise steadily.\n",
    "\n",
    "Original response:\n",
    "\n",
    "RM: The outcome of this experiment is biased. The type of person that opts in and wants to log their data is likely interested in tracking their performance over time, with the intent to improve/increase activity levels. In this case, the app would not be the cause of the increased activity levels, but rather the tool which the customer would use to measure said activity levels. To test the app’s effectiveness, the company could disclose that all activity information would be logged, and therefore could look at activity trends for the entire population using the app. This would allow the company to make a fair statement regarding the app’s effectiveness at increasing activity levels.\n",
    "\n",
    "# Essential Points of New Research Proposal:\n",
    "\n",
    "# The Problem\n",
    "\n",
    "The problem is that people have difficulty sticking to exercise-based weight loss goals. We should study this to combat rising levels of obesity in our society. More exercise results in both physical and mental health benefits. Let's assume that we know that, today, people complain that there is no easy way to track their performance data and weight - there should be an easier way to keep track of their stats over time.\n",
    "\n",
    "# The potential solution\n",
    "\n",
    "The potential solution is the Happy Days Fitness Tracker app, with the ability to record and track their exercise performance stats and weight. \n",
    "\n",
    "# The method of testing the solution¶\n",
    "\n",
    "Obtain a group of people who want to lose weight. Split this population into two groups at random. Ensure the two starting groups are equivalent in terms of age, gender, race, weight, body fat, etc.\n",
    "\n",
    "Install the app on one group's phones. Inform both groups that their weight loss results will be monitored intermittently by the authors of the study. This will eliminate any potential differences between groups that could be caused by one group knowing that they are being observed/monitored and the other one not.\n",
    "\n",
    "Define a time window for the study and stick to it. Two months seems to be an appropriate length of time to be able to determine whether there are significant differences in weight loss between the two groups. \n",
    "\n",
    "Set the benchmark for success. If the test group with the app is able to lose 10% more weight than the control group, we can conclude that the app was sucessful in its goal of aiding in weight loss.\n",
    "\n"
   ]
  },
  {
   "cell_type": "code",
   "execution_count": null,
   "metadata": {},
   "outputs": [],
   "source": []
  }
 ],
 "metadata": {
  "kernelspec": {
   "display_name": "Python 3",
   "language": "python",
   "name": "python3"
  },
  "language_info": {
   "codemirror_mode": {
    "name": "ipython",
    "version": 3
   },
   "file_extension": ".py",
   "mimetype": "text/x-python",
   "name": "python",
   "nbconvert_exporter": "python",
   "pygments_lexer": "ipython3",
   "version": "3.7.0"
  }
 },
 "nbformat": 4,
 "nbformat_minor": 2
}
