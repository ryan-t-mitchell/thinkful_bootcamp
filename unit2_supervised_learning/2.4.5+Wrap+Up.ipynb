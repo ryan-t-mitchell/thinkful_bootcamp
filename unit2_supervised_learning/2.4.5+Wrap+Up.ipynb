{
 "cells": [
  {
   "cell_type": "markdown",
   "metadata": {},
   "source": [
    "# Wrap up\n",
    "After completing this lesson you should be able to design and fit your own single and multivariable linear regression models. You should be able to explain what regression models are able to do, and what sort of data they are best suited to use. As with the Naive Bayes lesson, make sure you've played around with the model we've guided you through and your own model, adding new features and seeing how it affects things. In the next lesson we'll cover how to evaluate this model in more detail."
   ]
  },
  {
   "cell_type": "code",
   "execution_count": null,
   "metadata": {},
   "outputs": [],
   "source": []
  }
 ],
 "metadata": {
  "kernelspec": {
   "display_name": "Python 3",
   "language": "python",
   "name": "python3"
  },
  "language_info": {
   "codemirror_mode": {
    "name": "ipython",
    "version": 3
   },
   "file_extension": ".py",
   "mimetype": "text/x-python",
   "name": "python",
   "nbconvert_exporter": "python",
   "pygments_lexer": "ipython3",
   "version": "3.7.0"
  }
 },
 "nbformat": 4,
 "nbformat_minor": 2
}
