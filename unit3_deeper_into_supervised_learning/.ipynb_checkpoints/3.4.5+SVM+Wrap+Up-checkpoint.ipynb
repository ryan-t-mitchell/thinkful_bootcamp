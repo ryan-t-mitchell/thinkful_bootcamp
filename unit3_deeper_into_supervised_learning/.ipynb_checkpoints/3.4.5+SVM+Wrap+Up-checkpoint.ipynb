{
 "cells": [
  {
   "cell_type": "markdown",
   "metadata": {},
   "source": [
    "# Wrap up\n",
    "We've arrived at the end of our SVM lesson. We've covered a lot of ground, including:\n",
    "\n",
    "What margin, support vectors, and other key terms in a data science mean\n",
    "\n",
    "Kernels and the kernel trick\n",
    "\n",
    "SVM for linear classification and classification in higher dimensions\n",
    "\n",
    "SVM as a regressor and other extensions to SVM\n",
    "\n",
    "SVM is a powerful tool that is useful in a wide variety of contexts. However, there are two things to be careful of with this modeling approach: it is somewhat of a black box when operating in high dimensions and complex kernels can make it slow to run. In general, however, it is a reasonably accurate modeling option for both regression and classification. The ability to define a margin also allows for creating acceptable error for training in the regression context, a useful feature when you decide that's how you'd like to model your data."
   ]
  },
  {
   "cell_type": "code",
   "execution_count": null,
   "metadata": {},
   "outputs": [],
   "source": []
  }
 ],
 "metadata": {
  "kernelspec": {
   "display_name": "Python 3",
   "language": "python",
   "name": "python3"
  },
  "language_info": {
   "codemirror_mode": {
    "name": "ipython",
    "version": 3
   },
   "file_extension": ".py",
   "mimetype": "text/x-python",
   "name": "python",
   "nbconvert_exporter": "python",
   "pygments_lexer": "ipython3",
   "version": "3.7.0"
  }
 },
 "nbformat": 4,
 "nbformat_minor": 2
}
