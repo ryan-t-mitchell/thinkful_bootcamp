{
 "cells": [
  {
   "cell_type": "markdown",
   "metadata": {},
   "source": [
    "# Formulating a research question\n",
    "\n",
    "One way to think of a statistical model is as the mathematical expression of a research question. In supervised learning, we begin with an outcome of interest, a particular variable that we want to understand, explain, and/or predict. Our research question, in relation to that outcome, may be as broad as \"How do we best predict the outcome of interest given the data?\" or as narrow as \"What is the most accurate estimate of the outcome of interest for N groups under X conditions?\" The research question will guide your model-building and data exploration by spotlighting variables and inter-variable relationships of particular interest.\n",
    "\n",
    "Different types of research questions also call for different types of models. Research questions about odds or likelihood, such as \"will it rain today in Omaha?\", use models specifically designed to deal with binary outcomes (either it rains or it doesn't). Research questions about quantity, such as \"how much will it rain?\", use models that deal with continuous outcomes.\n",
    "\n",
    "As a data scientist, you may be provided with a research question to answer, and your job will be to translate it into a statistical model. But that isn't always the case. Defining your own research question is a more involved process, and there are many questions you'll want to ask yourself as you go about that process, such as:\n",
    "\n",
    "1. What is already known about this topic? Unless your goal is simply to learn a new statistical method and the research question itself is irrelevant, there's no point in reinventing the wheel.\n",
    "\n",
    "2. What sort of data, or ways to collect data, are available to me on this topic? A research question without relevant data is simply speculation.\n",
    "\n",
    "3. What skills do I have? A research question should be addressable using the statistical and programming skills you have now, or can feasibly learn in the time budget you have.\n",
    "\n",
    "4. Can this question be answered using quantities or probabilities? Since the plan is to address this research question using a mathematical model, it must be amenable to a numeric solution.\n",
    "\n",
    "5. Can this research question be asked in one sentence? If you need more than one sentence to explain what you want to know, your question is probably too broad or too vague to be useful and needs refining.\n",
    "    \n",
    "While a well-defined research question will exclude some modeling options (models for categorical vs continuous outcomes, for example), many degrees of freedom remain for the data scientist when defining a model. Kaggle Competitions offer some fantastic examples of the many models that can be used to answer the same research question."
   ]
  },
  {
   "cell_type": "code",
   "execution_count": null,
   "metadata": {},
   "outputs": [],
   "source": []
  }
 ],
 "metadata": {
  "kernelspec": {
   "display_name": "Python 3",
   "language": "python",
   "name": "python3"
  },
  "language_info": {
   "codemirror_mode": {
    "name": "ipython",
    "version": 3
   },
   "file_extension": ".py",
   "mimetype": "text/x-python",
   "name": "python",
   "nbconvert_exporter": "python",
   "pygments_lexer": "ipython3",
   "version": "3.7.0"
  }
 },
 "nbformat": 4,
 "nbformat_minor": 2
}
